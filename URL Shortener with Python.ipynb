{
 "cells": [
  {
   "cell_type": "markdown",
   "id": "06e6c43b",
   "metadata": {},
   "source": [
    "![](\"https://www.clickslice.co.uk/wp-content/uploads/2022/07/1_Pdw7h5X6vQQNVopIzHBG6A.jpeg\")"
   ]
  },
  {
   "cell_type": "markdown",
   "id": "3b67b940",
   "metadata": {},
   "source": [
    "<center>\n",
    "  <h1 style=\"background-color:purple; color:white; font-size:40px; font-weight:bold; font-family:Times New Roman; border:2px solid black;\">URL SHORTENER</h1>\n",
    "</center>\n"
   ]
  },
  {
   "cell_type": "markdown",
   "id": "3cc26894",
   "metadata": {},
   "source": [
    "<center>\n",
    "  <h1 style=\" color:black; font-size:40px; font-weight:bold; font-family:Times New Roman; border:2px solid black;\"> Project Overview and Objectives</h1>\n",
    "</center>"
   ]
  },
  {
   "cell_type": "markdown",
   "id": "f6ead71f",
   "metadata": {},
   "source": [
    "Project Overview:\n",
    "    The URL Shortener project aims to create a web application that allows users to convert long URLs into shorter and more manageable versions. The application will provide a user-friendly interface where users can input a long URL and receive a shortened version, which they can easily share on social media, in emails, or other platforms with character limitations. The project will use Python for backend logic, a web framework for handling user requests, and a database to store and retrieve the mappings between long and shortened URLs.\n",
    "\n",
    "Project Objectives:\n",
    "1. URL Shortening: Implement the core functionality to shorten long URLs and generate unique and short alphanumeric codes as the shortened URLs.\n",
    "\n",
    "2. URL Redirection: Set up a redirection mechanism so that when users click on the shortened URLs, they are redirected to the original long URLs.\n",
    "\n",
    "3. User Interface: Create a user-friendly web interface for users to enter long URLs, receive shortened versions, and view the click statistics for their shortened URLs.\n",
    "\n",
    "4. Click Tracking: Implement a mechanism to track the number of clicks and other relevant statistics for each shortened URL to provide users with analytics.\n",
    "\n",
    "5. Custom Shortened URLs (Optional): Optionally, allow registered users to create custom shortened URLs for a more personalized experience.\n",
    "\n",
    "6. Security: Implement security measures to prevent misuse of the service, such as spamming or malicious links.\n",
    "\n",
    "7. Database Management: Set up a database to store the mappings between long and shortened URLs, as well as click statistics and user information (if user accounts are implemented).\n",
    "    \n",
    "8. Deployment: Deploy the application to a web server or cloud platform to make it accessible to users over the internet.\n",
    "\n",
    "9. Error Handling: Implement error handling to deal with scenarios like invalid URLs, duplicate shortcodes, and other potential issues.\n",
    "\n",
    "10. Testing: Conduct thorough testing to ensure the application works as intended and identify and fix any bugs or issues."
   ]
  },
  {
   "cell_type": "markdown",
   "id": "94acb44f",
   "metadata": {},
   "source": [
    "<center>\n",
    "  <h1 style=\" color:black; font-size:40px; font-weight:bold; font-family:Times New Roman; border:2px solid black;\">Install Pyshorteners Library</h1>\n",
    "</center>"
   ]
  },
  {
   "cell_type": "code",
   "execution_count": 1,
   "id": "94fd83df",
   "metadata": {},
   "outputs": [
    {
     "name": "stdout",
     "output_type": "stream",
     "text": [
      "Requirement already satisfied: pyshorteners in c:\\users\\admin 25\\anaconda3\\lib\\site-packages (1.0.1)\n",
      "Requirement already satisfied: requests in c:\\users\\admin 25\\anaconda3\\lib\\site-packages (from pyshorteners) (2.28.1)\n",
      "Requirement already satisfied: idna<4,>=2.5 in c:\\users\\admin 25\\anaconda3\\lib\\site-packages (from requests->pyshorteners) (3.4)\n",
      "Requirement already satisfied: urllib3<1.27,>=1.21.1 in c:\\users\\admin 25\\anaconda3\\lib\\site-packages (from requests->pyshorteners) (1.26.14)\n",
      "Requirement already satisfied: certifi>=2017.4.17 in c:\\users\\admin 25\\anaconda3\\lib\\site-packages (from requests->pyshorteners) (2022.12.7)\n",
      "Requirement already satisfied: charset-normalizer<3,>=2 in c:\\users\\admin 25\\anaconda3\\lib\\site-packages (from requests->pyshorteners) (2.0.4)\n",
      "Note: you may need to restart the kernel to use updated packages.\n"
     ]
    }
   ],
   "source": [
    "pip install pyshorteners\n"
   ]
  },
  {
   "cell_type": "markdown",
   "id": "224e7dd1",
   "metadata": {},
   "source": [
    "<center>\n",
    "  <h1 style=\" color:black; font-size:40px; font-weight:bold; font-family:Times New Roman; border:2px solid black;\">Import Pyshorteners Library</h1>\n",
    "</center>"
   ]
  },
  {
   "cell_type": "code",
   "execution_count": 2,
   "id": "6d42de59",
   "metadata": {},
   "outputs": [],
   "source": [
    "import pyshorteners\n"
   ]
  },
  {
   "cell_type": "markdown",
   "id": "7218bf04",
   "metadata": {},
   "source": [
    "<center>\n",
    "  <h1 style=\" color:black; font-size:40px; font-weight:bold; font-family:Times New Roman; border:2px solid black;\">Generate URL Shortener </h1>\n",
    "</center>"
   ]
  },
  {
   "cell_type": "code",
   "execution_count": null,
   "id": "9b2211e8",
   "metadata": {},
   "outputs": [
    {
     "name": "stdout",
     "output_type": "stream",
     "text": [
      "Enter a long URL (or 'exit' to quit): https://github.com/NITESHSAHU107\n",
      "Original URL: https://github.com/NITESHSAHU107\n",
      "Shortened URL: https://tinyurl.com/278pqem4\n"
     ]
    }
   ],
   "source": [
    "\n",
    "\n",
    "def shorten_url(long_url):\n",
    "    s = pyshorteners.Shortener()\n",
    "    shortened_url = s.tinyurl.short(long_url)\n",
    "    return shortened_url\n",
    "\n",
    "if __name__ == \"__main__\":\n",
    "    while True:\n",
    "        long_url = input(\"Enter a long URL (or 'exit' to quit): \")\n",
    "\n",
    "        if long_url.lower() == \"exit\":\n",
    "            break\n",
    "\n",
    "        shortened_url = shorten_url(long_url)\n",
    "        print(f\"Original URL: {long_url}\")\n",
    "        print(f\"Shortened URL: {shortened_url}\")\n"
   ]
  },
  {
   "cell_type": "markdown",
   "id": "59e8ff9c",
   "metadata": {},
   "source": [
    "![](\"https://www.clickslice.co.uk/wp-content/uploads/2022/07/1_Pdw7h5X6vQQNVopIzHBG6A.jpeg\")"
   ]
  },
  {
   "cell_type": "markdown",
   "id": "a52660d1",
   "metadata": {},
   "source": [
    "<center>\n",
    "  <h1 style=\"background-color:purple; color:white; font-size:40px; font-weight:bold; font-family:Times New Roman; border:2px solid black;\">Thank You</h1>\n",
    "</center>"
   ]
  },
  {
   "cell_type": "code",
   "execution_count": null,
   "id": "5ddbec9a",
   "metadata": {},
   "outputs": [],
   "source": []
  }
 ],
 "metadata": {
  "kernelspec": {
   "display_name": "Python 3 (ipykernel)",
   "language": "python",
   "name": "python3"
  },
  "language_info": {
   "codemirror_mode": {
    "name": "ipython",
    "version": 3
   },
   "file_extension": ".py",
   "mimetype": "text/x-python",
   "name": "python",
   "nbconvert_exporter": "python",
   "pygments_lexer": "ipython3",
   "version": "3.10.9"
  },
  "varInspector": {
   "cols": {
    "lenName": 16,
    "lenType": 16,
    "lenVar": 40
   },
   "kernels_config": {
    "python": {
     "delete_cmd_postfix": "",
     "delete_cmd_prefix": "del ",
     "library": "var_list.py",
     "varRefreshCmd": "print(var_dic_list())"
    },
    "r": {
     "delete_cmd_postfix": ") ",
     "delete_cmd_prefix": "rm(",
     "library": "var_list.r",
     "varRefreshCmd": "cat(var_dic_list()) "
    }
   },
   "types_to_exclude": [
    "module",
    "function",
    "builtin_function_or_method",
    "instance",
    "_Feature"
   ],
   "window_display": false
  }
 },
 "nbformat": 4,
 "nbformat_minor": 5
}
